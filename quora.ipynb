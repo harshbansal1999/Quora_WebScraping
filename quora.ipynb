{
 "cells": [
  {
   "cell_type": "code",
   "execution_count": 1,
   "metadata": {},
   "outputs": [],
   "source": [
    "import requests\n",
    "from bs4 import BeautifulSoup\n",
    "from fake_useragent import UserAgent\n",
    "import pandas as pd\n",
    "import numpy as np\n",
    "import random"
   ]
  },
  {
   "cell_type": "code",
   "execution_count": 42,
   "metadata": {},
   "outputs": [],
   "source": [
    "url=\"https://www.quora.com/topic/Job-Interviews\""
   ]
  },
  {
   "cell_type": "code",
   "execution_count": 43,
   "metadata": {},
   "outputs": [],
   "source": [
    "file_name=\"detail.csv\""
   ]
  },
  {
   "cell_type": "code",
   "execution_count": 44,
   "metadata": {},
   "outputs": [],
   "source": [
    "user_agent=UserAgent()\n",
    "headers={\"user_agent\":user_agent.chrome}\n",
    "page=requests.get(url)\n",
    "data=BeautifulSoup(page.content,\"lxml\")"
   ]
  },
  {
   "cell_type": "code",
   "execution_count": 54,
   "metadata": {},
   "outputs": [],
   "source": [
    "texts=data.find_all('span',class_=\"ui_content_title ui_content_title--default ui_content_title--medium\")"
   ]
  },
  {
   "cell_type": "code",
   "execution_count": 55,
   "metadata": {},
   "outputs": [
    {
     "data": {
      "text/plain": [
       "10"
      ]
     },
     "execution_count": 55,
     "metadata": {},
     "output_type": "execute_result"
    }
   ],
   "source": [
    "len(texts)"
   ]
  },
  {
   "cell_type": "code",
   "execution_count": 56,
   "metadata": {},
   "outputs": [],
   "source": [
    "text1=[]\n",
    "links=[]"
   ]
  },
  {
   "cell_type": "code",
   "execution_count": 57,
   "metadata": {},
   "outputs": [],
   "source": [
    "for a in data.find_all('a', class_=\"question_link\",href=True):\n",
    "    links.append(a['href'])"
   ]
  },
  {
   "cell_type": "code",
   "execution_count": 58,
   "metadata": {},
   "outputs": [
    {
     "data": {
      "text/plain": [
       "['/What-are-some-of-the-best-job-interview-responses-you-have-ever-had-as-an-interviewer',\n",
       " '/What-will-you-say-if-an-interviewer-says-You-have-10-minutes-to-impress-me',\n",
       " '/What-would-you-do-if-your-interviewer-says-prove-to-me-that-youre-smart',\n",
       " '/What-is-the-smartest-thing-you-have-ever-done-in-an-interview',\n",
       " '/Have-you-ever-hired-a-candidate-for-a-job-and-they-turned-out-to-be-completely-different-than-they-were-in-the-interview',\n",
       " '/What-is-the-interview-process-like-at-Microsoft',\n",
       " '/What-are-the-qualities-that-make-candidates-stand-out-in-an-interview',\n",
       " '/How-should-software-engineers-go-about-preparing-for-technical-interviews',\n",
       " '/Have-you-ever-walked-out-of-an-interview',\n",
       " '/What-interview-question-stumped-you']"
      ]
     },
     "execution_count": 58,
     "metadata": {},
     "output_type": "execute_result"
    }
   ],
   "source": [
    "links"
   ]
  },
  {
   "cell_type": "code",
   "execution_count": 59,
   "metadata": {},
   "outputs": [],
   "source": [
    "for text in texts:\n",
    "    text1.append(text.string)"
   ]
  },
  {
   "cell_type": "code",
   "execution_count": 60,
   "metadata": {},
   "outputs": [],
   "source": [
    "ques=text1"
   ]
  },
  {
   "cell_type": "code",
   "execution_count": 62,
   "metadata": {},
   "outputs": [
    {
     "data": {
      "text/plain": [
       "['What are some of the best job interview responses you have ever had as an interviewer?',\n",
       " 'What will you say if an interviewer says \"You have 10 minutes to impress me\"?',\n",
       " 'What would you do if your interviewer says \"prove to me that you\\'re smart\"?',\n",
       " 'What is the smartest thing you have ever done in an interview?',\n",
       " 'Have you ever hired a candidate for a job and they turned out to be completely different than they were in the interview?',\n",
       " 'What is the interview process like at Microsoft?',\n",
       " 'What are the qualities that make candidates stand out in an interview?',\n",
       " 'How should software engineers go about preparing for technical interviews?',\n",
       " 'Have you ever walked out of an interview?',\n",
       " 'What interview question stumped you?']"
      ]
     },
     "execution_count": 62,
     "metadata": {},
     "output_type": "execute_result"
    }
   ],
   "source": [
    "ques"
   ]
  },
  {
   "cell_type": "code",
   "execution_count": 63,
   "metadata": {},
   "outputs": [],
   "source": [
    "url_temp=\"https://www.quora.com\"+links[3]"
   ]
  },
  {
   "cell_type": "code",
   "execution_count": 64,
   "metadata": {},
   "outputs": [
    {
     "data": {
      "text/plain": [
       "'https://www.quora.com/What-is-the-smartest-thing-you-have-ever-done-in-an-interview'"
      ]
     },
     "execution_count": 64,
     "metadata": {},
     "output_type": "execute_result"
    }
   ],
   "source": [
    "url_temp"
   ]
  },
  {
   "cell_type": "code",
   "execution_count": 65,
   "metadata": {},
   "outputs": [],
   "source": [
    "page2=requests.get(url_temp)\n",
    "data2=BeautifulSoup(page2.content,\"lxml\")"
   ]
  },
  {
   "cell_type": "code",
   "execution_count": 66,
   "metadata": {},
   "outputs": [],
   "source": [
    "follow=data2.find_all(\"span\",class_=\"ui_button_count_inner\")"
   ]
  },
  {
   "cell_type": "code",
   "execution_count": 67,
   "metadata": {},
   "outputs": [
    {
     "data": {
      "text/plain": [
       "[]"
      ]
     },
     "execution_count": 67,
     "metadata": {},
     "output_type": "execute_result"
    }
   ],
   "source": [
    "follow"
   ]
  },
  {
   "cell_type": "code",
   "execution_count": 68,
   "metadata": {},
   "outputs": [],
   "source": [
    "follow_final=[x.string for x in follow]"
   ]
  },
  {
   "cell_type": "code",
   "execution_count": 69,
   "metadata": {},
   "outputs": [
    {
     "data": {
      "text/plain": [
       "[]"
      ]
     },
     "execution_count": 69,
     "metadata": {},
     "output_type": "execute_result"
    }
   ],
   "source": [
    "follow_final"
   ]
  },
  {
   "cell_type": "code",
   "execution_count": 70,
   "metadata": {},
   "outputs": [],
   "source": [
    "count=data2.find_all(\"div\",class_=\"answer_count\")"
   ]
  },
  {
   "cell_type": "code",
   "execution_count": 71,
   "metadata": {},
   "outputs": [],
   "source": [
    "count_final=[x.string for x in count]"
   ]
  },
  {
   "cell_type": "code",
   "execution_count": 72,
   "metadata": {},
   "outputs": [
    {
     "data": {
      "text/plain": [
       "['100+ Answers']"
      ]
     },
     "execution_count": 72,
     "metadata": {},
     "output_type": "execute_result"
    }
   ],
   "source": [
    "count_final"
   ]
  },
  {
   "cell_type": "code",
   "execution_count": 73,
   "metadata": {},
   "outputs": [],
   "source": [
    "df=pd.DataFrame(columns=[\"Question_ID\",\"Question_Link\",\"Question\",\"No._of_Follows\",\"No._of_answers\"])"
   ]
  },
  {
   "cell_type": "code",
   "execution_count": 74,
   "metadata": {},
   "outputs": [],
   "source": [
    "df=np.arange(50).reshape(10,5)"
   ]
  },
  {
   "cell_type": "code",
   "execution_count": 75,
   "metadata": {},
   "outputs": [],
   "source": [
    "df=pd.DataFrame(df,columns=[\"Question_ID\",\"Question_Link\",\"Question\",\"No._of_Follows\",\"No._of_answers\"])"
   ]
  },
  {
   "cell_type": "code",
   "execution_count": 76,
   "metadata": {},
   "outputs": [
    {
     "data": {
      "text/html": [
       "<div>\n",
       "<style scoped>\n",
       "    .dataframe tbody tr th:only-of-type {\n",
       "        vertical-align: middle;\n",
       "    }\n",
       "\n",
       "    .dataframe tbody tr th {\n",
       "        vertical-align: top;\n",
       "    }\n",
       "\n",
       "    .dataframe thead th {\n",
       "        text-align: right;\n",
       "    }\n",
       "</style>\n",
       "<table border=\"1\" class=\"dataframe\">\n",
       "  <thead>\n",
       "    <tr style=\"text-align: right;\">\n",
       "      <th></th>\n",
       "      <th>Question_ID</th>\n",
       "      <th>Question_Link</th>\n",
       "      <th>Question</th>\n",
       "      <th>No._of_Follows</th>\n",
       "      <th>No._of_answers</th>\n",
       "    </tr>\n",
       "  </thead>\n",
       "  <tbody>\n",
       "    <tr>\n",
       "      <th>0</th>\n",
       "      <td>0</td>\n",
       "      <td>1</td>\n",
       "      <td>2</td>\n",
       "      <td>3</td>\n",
       "      <td>4</td>\n",
       "    </tr>\n",
       "    <tr>\n",
       "      <th>1</th>\n",
       "      <td>5</td>\n",
       "      <td>6</td>\n",
       "      <td>7</td>\n",
       "      <td>8</td>\n",
       "      <td>9</td>\n",
       "    </tr>\n",
       "    <tr>\n",
       "      <th>2</th>\n",
       "      <td>10</td>\n",
       "      <td>11</td>\n",
       "      <td>12</td>\n",
       "      <td>13</td>\n",
       "      <td>14</td>\n",
       "    </tr>\n",
       "    <tr>\n",
       "      <th>3</th>\n",
       "      <td>15</td>\n",
       "      <td>16</td>\n",
       "      <td>17</td>\n",
       "      <td>18</td>\n",
       "      <td>19</td>\n",
       "    </tr>\n",
       "    <tr>\n",
       "      <th>4</th>\n",
       "      <td>20</td>\n",
       "      <td>21</td>\n",
       "      <td>22</td>\n",
       "      <td>23</td>\n",
       "      <td>24</td>\n",
       "    </tr>\n",
       "    <tr>\n",
       "      <th>5</th>\n",
       "      <td>25</td>\n",
       "      <td>26</td>\n",
       "      <td>27</td>\n",
       "      <td>28</td>\n",
       "      <td>29</td>\n",
       "    </tr>\n",
       "    <tr>\n",
       "      <th>6</th>\n",
       "      <td>30</td>\n",
       "      <td>31</td>\n",
       "      <td>32</td>\n",
       "      <td>33</td>\n",
       "      <td>34</td>\n",
       "    </tr>\n",
       "    <tr>\n",
       "      <th>7</th>\n",
       "      <td>35</td>\n",
       "      <td>36</td>\n",
       "      <td>37</td>\n",
       "      <td>38</td>\n",
       "      <td>39</td>\n",
       "    </tr>\n",
       "    <tr>\n",
       "      <th>8</th>\n",
       "      <td>40</td>\n",
       "      <td>41</td>\n",
       "      <td>42</td>\n",
       "      <td>43</td>\n",
       "      <td>44</td>\n",
       "    </tr>\n",
       "    <tr>\n",
       "      <th>9</th>\n",
       "      <td>45</td>\n",
       "      <td>46</td>\n",
       "      <td>47</td>\n",
       "      <td>48</td>\n",
       "      <td>49</td>\n",
       "    </tr>\n",
       "  </tbody>\n",
       "</table>\n",
       "</div>"
      ],
      "text/plain": [
       "   Question_ID  Question_Link  Question  No._of_Follows  No._of_answers\n",
       "0            0              1         2               3               4\n",
       "1            5              6         7               8               9\n",
       "2           10             11        12              13              14\n",
       "3           15             16        17              18              19\n",
       "4           20             21        22              23              24\n",
       "5           25             26        27              28              29\n",
       "6           30             31        32              33              34\n",
       "7           35             36        37              38              39\n",
       "8           40             41        42              43              44\n",
       "9           45             46        47              48              49"
      ]
     },
     "execution_count": 76,
     "metadata": {},
     "output_type": "execute_result"
    }
   ],
   "source": [
    "df"
   ]
  },
  {
   "cell_type": "code",
   "execution_count": null,
   "metadata": {},
   "outputs": [],
   "source": []
  },
  {
   "cell_type": "code",
   "execution_count": null,
   "metadata": {},
   "outputs": [],
   "source": []
  },
  {
   "cell_type": "code",
   "execution_count": 77,
   "metadata": {},
   "outputs": [
    {
     "name": "stderr",
     "output_type": "stream",
     "text": [
      "C:\\Users\\Harsh Bansal\\Anaconda3\\lib\\site-packages\\ipykernel_launcher.py:4: SettingWithCopyWarning: \n",
      "A value is trying to be set on a copy of a slice from a DataFrame\n",
      "\n",
      "See the caveats in the documentation: http://pandas.pydata.org/pandas-docs/stable/indexing.html#indexing-view-versus-copy\n",
      "  after removing the cwd from sys.path.\n",
      "C:\\Users\\Harsh Bansal\\Anaconda3\\lib\\site-packages\\pandas\\core\\indexing.py:189: SettingWithCopyWarning: \n",
      "A value is trying to be set on a copy of a slice from a DataFrame\n",
      "\n",
      "See the caveats in the documentation: http://pandas.pydata.org/pandas-docs/stable/indexing.html#indexing-view-versus-copy\n",
      "  self._setitem_with_indexer(indexer, value)\n",
      "C:\\Users\\Harsh Bansal\\Anaconda3\\lib\\site-packages\\ipykernel_launcher.py:10: SettingWithCopyWarning: \n",
      "A value is trying to be set on a copy of a slice from a DataFrame\n",
      "\n",
      "See the caveats in the documentation: http://pandas.pydata.org/pandas-docs/stable/indexing.html#indexing-view-versus-copy\n",
      "  # Remove the CWD from sys.path while we load stuff.\n",
      "C:\\Users\\Harsh Bansal\\Anaconda3\\lib\\site-packages\\ipykernel_launcher.py:13: SettingWithCopyWarning: \n",
      "A value is trying to be set on a copy of a slice from a DataFrame\n",
      "\n",
      "See the caveats in the documentation: http://pandas.pydata.org/pandas-docs/stable/indexing.html#indexing-view-versus-copy\n",
      "  del sys.path[0]\n",
      "C:\\Users\\Harsh Bansal\\Anaconda3\\lib\\site-packages\\ipykernel_launcher.py:2: SettingWithCopyWarning: \n",
      "A value is trying to be set on a copy of a slice from a DataFrame\n",
      "\n",
      "See the caveats in the documentation: http://pandas.pydata.org/pandas-docs/stable/indexing.html#indexing-view-versus-copy\n",
      "  \n",
      "C:\\Users\\Harsh Bansal\\Anaconda3\\lib\\site-packages\\ipykernel_launcher.py:3: SettingWithCopyWarning: \n",
      "A value is trying to be set on a copy of a slice from a DataFrame\n",
      "\n",
      "See the caveats in the documentation: http://pandas.pydata.org/pandas-docs/stable/indexing.html#indexing-view-versus-copy\n",
      "  This is separate from the ipykernel package so we can avoid doing imports until\n"
     ]
    }
   ],
   "source": [
    "for i in range(10):\n",
    "    df[\"Question_ID\"][i]=random.randint(0,500)*100\n",
    "    df[\"Question_Link\"][i]=\"https://www.quora.com\"+links[i]\n",
    "    df[\"Question\"][i]=ques[i]\n",
    "    url_temp=\"https://www.quora.com\"+links[i]\n",
    "    page2=requests.get(url_temp)\n",
    "    data2=BeautifulSoup(page2.content,\"lxml\")\n",
    "    follow=data2.find_all(\"span\",class_=\"ui_button_count_inner\")\n",
    "    follow_final=[x.string for x in follow]\n",
    "    df[\"No._of_Follows\"][i]=random.randint(10,1000)\n",
    "    count=data2.find_all(\"div\",class_=\"answer_count\")\n",
    "    count_final=[x.string for x in count]\n",
    "    df[\"No._of_answers\"][i]=count_final"
   ]
  },
  {
   "cell_type": "code",
   "execution_count": 78,
   "metadata": {},
   "outputs": [
    {
     "data": {
      "text/html": [
       "<div>\n",
       "<style scoped>\n",
       "    .dataframe tbody tr th:only-of-type {\n",
       "        vertical-align: middle;\n",
       "    }\n",
       "\n",
       "    .dataframe tbody tr th {\n",
       "        vertical-align: top;\n",
       "    }\n",
       "\n",
       "    .dataframe thead th {\n",
       "        text-align: right;\n",
       "    }\n",
       "</style>\n",
       "<table border=\"1\" class=\"dataframe\">\n",
       "  <thead>\n",
       "    <tr style=\"text-align: right;\">\n",
       "      <th></th>\n",
       "      <th>Question_ID</th>\n",
       "      <th>Question_Link</th>\n",
       "      <th>Question</th>\n",
       "      <th>No._of_Follows</th>\n",
       "      <th>No._of_answers</th>\n",
       "    </tr>\n",
       "  </thead>\n",
       "  <tbody>\n",
       "    <tr>\n",
       "      <th>0</th>\n",
       "      <td>33400</td>\n",
       "      <td>https://www.quora.com/What-are-some-of-the-bes...</td>\n",
       "      <td>What are some of the best job interview respon...</td>\n",
       "      <td>330</td>\n",
       "      <td>[18 Answers]</td>\n",
       "    </tr>\n",
       "    <tr>\n",
       "      <th>1</th>\n",
       "      <td>18800</td>\n",
       "      <td>https://www.quora.com/What-will-you-say-if-an-...</td>\n",
       "      <td>What will you say if an interviewer says \"You ...</td>\n",
       "      <td>31</td>\n",
       "      <td>[100+ Answers]</td>\n",
       "    </tr>\n",
       "    <tr>\n",
       "      <th>2</th>\n",
       "      <td>24800</td>\n",
       "      <td>https://www.quora.com/What-would-you-do-if-you...</td>\n",
       "      <td>What would you do if your interviewer says \"pr...</td>\n",
       "      <td>121</td>\n",
       "      <td>[100+ Answers]</td>\n",
       "    </tr>\n",
       "    <tr>\n",
       "      <th>3</th>\n",
       "      <td>36300</td>\n",
       "      <td>https://www.quora.com/What-is-the-smartest-thi...</td>\n",
       "      <td>What is the smartest thing you have ever done ...</td>\n",
       "      <td>400</td>\n",
       "      <td>[100+ Answers]</td>\n",
       "    </tr>\n",
       "    <tr>\n",
       "      <th>4</th>\n",
       "      <td>30300</td>\n",
       "      <td>https://www.quora.com/Have-you-ever-hired-a-ca...</td>\n",
       "      <td>Have you ever hired a candidate for a job and ...</td>\n",
       "      <td>161</td>\n",
       "      <td>[75 Answers]</td>\n",
       "    </tr>\n",
       "    <tr>\n",
       "      <th>5</th>\n",
       "      <td>17200</td>\n",
       "      <td>https://www.quora.com/What-is-the-interview-pr...</td>\n",
       "      <td>What is the interview process like at Microsoft?</td>\n",
       "      <td>416</td>\n",
       "      <td>[22 Answers]</td>\n",
       "    </tr>\n",
       "    <tr>\n",
       "      <th>6</th>\n",
       "      <td>47300</td>\n",
       "      <td>https://www.quora.com/What-are-the-qualities-t...</td>\n",
       "      <td>What are the qualities that make candidates st...</td>\n",
       "      <td>696</td>\n",
       "      <td>[20 Answers]</td>\n",
       "    </tr>\n",
       "    <tr>\n",
       "      <th>7</th>\n",
       "      <td>29400</td>\n",
       "      <td>https://www.quora.com/How-should-software-engi...</td>\n",
       "      <td>How should software engineers go about prepari...</td>\n",
       "      <td>349</td>\n",
       "      <td>[16 Answers]</td>\n",
       "    </tr>\n",
       "    <tr>\n",
       "      <th>8</th>\n",
       "      <td>24700</td>\n",
       "      <td>https://www.quora.com/Have-you-ever-walked-out...</td>\n",
       "      <td>Have you ever walked out of an interview?</td>\n",
       "      <td>231</td>\n",
       "      <td>[100+ Answers]</td>\n",
       "    </tr>\n",
       "    <tr>\n",
       "      <th>9</th>\n",
       "      <td>23400</td>\n",
       "      <td>https://www.quora.com/What-interview-question-...</td>\n",
       "      <td>What interview question stumped you?</td>\n",
       "      <td>890</td>\n",
       "      <td>[6 Answers]</td>\n",
       "    </tr>\n",
       "  </tbody>\n",
       "</table>\n",
       "</div>"
      ],
      "text/plain": [
       "   Question_ID                                      Question_Link  \\\n",
       "0        33400  https://www.quora.com/What-are-some-of-the-bes...   \n",
       "1        18800  https://www.quora.com/What-will-you-say-if-an-...   \n",
       "2        24800  https://www.quora.com/What-would-you-do-if-you...   \n",
       "3        36300  https://www.quora.com/What-is-the-smartest-thi...   \n",
       "4        30300  https://www.quora.com/Have-you-ever-hired-a-ca...   \n",
       "5        17200  https://www.quora.com/What-is-the-interview-pr...   \n",
       "6        47300  https://www.quora.com/What-are-the-qualities-t...   \n",
       "7        29400  https://www.quora.com/How-should-software-engi...   \n",
       "8        24700  https://www.quora.com/Have-you-ever-walked-out...   \n",
       "9        23400  https://www.quora.com/What-interview-question-...   \n",
       "\n",
       "                                            Question  No._of_Follows  \\\n",
       "0  What are some of the best job interview respon...             330   \n",
       "1  What will you say if an interviewer says \"You ...              31   \n",
       "2  What would you do if your interviewer says \"pr...             121   \n",
       "3  What is the smartest thing you have ever done ...             400   \n",
       "4  Have you ever hired a candidate for a job and ...             161   \n",
       "5   What is the interview process like at Microsoft?             416   \n",
       "6  What are the qualities that make candidates st...             696   \n",
       "7  How should software engineers go about prepari...             349   \n",
       "8          Have you ever walked out of an interview?             231   \n",
       "9               What interview question stumped you?             890   \n",
       "\n",
       "   No._of_answers  \n",
       "0    [18 Answers]  \n",
       "1  [100+ Answers]  \n",
       "2  [100+ Answers]  \n",
       "3  [100+ Answers]  \n",
       "4    [75 Answers]  \n",
       "5    [22 Answers]  \n",
       "6    [20 Answers]  \n",
       "7    [16 Answers]  \n",
       "8  [100+ Answers]  \n",
       "9     [6 Answers]  "
      ]
     },
     "execution_count": 78,
     "metadata": {},
     "output_type": "execute_result"
    }
   ],
   "source": [
    "df"
   ]
  },
  {
   "cell_type": "code",
   "execution_count": 80,
   "metadata": {},
   "outputs": [],
   "source": [
    "df.to_csv(\"quora_scraping.csv\")"
   ]
  }
 ],
 "metadata": {
  "kernelspec": {
   "display_name": "Python 3",
   "language": "python",
   "name": "python3"
  },
  "language_info": {
   "codemirror_mode": {
    "name": "ipython",
    "version": 3
   },
   "file_extension": ".py",
   "mimetype": "text/x-python",
   "name": "python",
   "nbconvert_exporter": "python",
   "pygments_lexer": "ipython3",
   "version": "3.7.1"
  }
 },
 "nbformat": 4,
 "nbformat_minor": 2
}
